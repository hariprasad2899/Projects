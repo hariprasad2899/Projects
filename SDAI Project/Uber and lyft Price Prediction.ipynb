{
 "cells": [
  {
   "cell_type": "code",
   "execution_count": 1,
   "id": "00636f2c",
   "metadata": {
    "vscode": {
     "languageId": "r"
    }
   },
   "outputs": [
    {
     "ename": "ERROR",
     "evalue": "Error in parse(text = x, srcfile = src): <text>:2:8: unexpected symbol\n1: # Import necessary libraries\n2: import pandas\n          ^\n",
     "output_type": "error",
     "traceback": [
      "Error in parse(text = x, srcfile = src): <text>:2:8: unexpected symbol\n1: # Import necessary libraries\n2: import pandas\n          ^\nTraceback:\n"
     ]
    }
   ],
   "source": [
    "# Import necessary libraries\n",
    "import pandas as pd\n",
    "import numpy as np\n",
    "import matplotlib.pyplot as plt\n",
    "import seaborn as sns\n",
    "from sklearn.model_selection import train_test_split\n",
    "from sklearn.linear_model import LinearRegression\n",
    "from sklearn.preprocessing import PolynomialFeatures\n",
    "from sklearn.metrics import mean_squared_error, r2_score\n",
    "\n",
    "# Load the dataset into a pandas DataFrame\n",
    "data = pd.read_csv('cab_rides.csv')\n",
    "\n",
    "# Clean the data by removing any missing or duplicate values\n",
    "data.dropna(inplace=True)\n",
    "data.drop_duplicates(inplace=True)\n",
    "\n",
    "\n"
   ]
  },
  {
   "cell_type": "code",
   "execution_count": null,
   "id": "53e68075",
   "metadata": {
    "vscode": {
     "languageId": "r"
    }
   },
   "outputs": [],
   "source": [
    "#Display 10 records - 5 for Lyft and 5 for Uber\n",
    "lyft = data[data['cab_type'] == 'Lyft'].head(5)\n",
    "uber = data[data['cab_type'] == 'Uber'].head(5)\n",
    "display(lyft)\n",
    "display(uber)"
   ]
  },
  {
   "cell_type": "code",
   "execution_count": null,
   "id": "a09f520f",
   "metadata": {
    "vscode": {
     "languageId": "r"
    }
   },
   "outputs": [],
   "source": [
    "# Extract relevant columns for analysis (distance, cab_type, price)\n",
    "data = data[['distance', 'cab_type', 'price']]\n",
    "\n",
    "# Convert categorical variables to numerical values\n",
    "data['cab_type'] = data['cab_type'].map({'Lyft': 0, 'Uber': 1})"
   ]
  },
  {
   "cell_type": "code",
   "execution_count": null,
   "id": "f65275bd",
   "metadata": {
    "vscode": {
     "languageId": "r"
    }
   },
   "outputs": [],
   "source": [
    "\n",
    "# Split the data into training and testing sets\n",
    "X = data[['distance', 'cab_type']]\n",
    "y = data['price']\n",
    "X_train, X_test, y_train, y_test = train_test_split(X, y, test_size=0.2, random_state=42)\n",
    "\n",
    "# Linear Regression Model\n",
    "lr_model = LinearRegression()\n",
    "lr_model.fit(X_train, y_train)\n",
    "y_pred_lr = lr_model.predict(X_test)\n",
    "\n",
    "# Polynomial Regression Model\n",
    "pf = PolynomialFeatures(degree=2)\n",
    "X_poly = pf.fit_transform(X_train)\n",
    "pr_model = LinearRegression()\n",
    "pr_model.fit(X_poly, y_train)\n",
    "y_poly_pred = pr_model.predict(pf.transform(X_test))\n",
    "\n",
    "# Evaluate the models' performance on the testing set\n",
    "lr_mse = mean_squared_error(y_test, y_pred_lr)\n",
    "lr_rmse = np.sqrt(lr_mse)\n",
    "lr_r2 = r2_score(y_test, y_pred_lr)\n",
    "print(f\"Linear Regression Model: RMSE = {lr_rmse:.2f}, R^2 Score = {lr_r2:.2f}\")\n",
    "\n",
    "pr_mse = mean_squared_error(y_test, y_poly_pred)\n",
    "pr_rmse = np.sqrt(pr_mse)\n",
    "pr_r2 = r2_score(y_test, y_poly_pred)\n",
    "print(f\"Polynomial Regression Model: RMSE = {pr_rmse:.2f}, R^2 Score = {pr_r2:.2f}\")\n",
    "\n",
    "# Visualize the results to compare the pricing of Uber and Lyft for different distances\n",
    "uber_data = data[data['cab_type'] == 1]\n",
    "lyft_data = data[data['cab_type'] == 0]\n",
    "\n",
    "plt.figure(figsize=(10,6))\n",
    "sns.scatterplot(data=uber_data, x='distance', y='price', label='Uber')\n",
    "sns.scatterplot(data=lyft_data, x='distance', y='price', label='Lyft')\n",
    "plt.xlabel('Distance')\n",
    "plt.ylabel('Price')\n",
    "plt.title('Price vs Distance for Uber and Lyft')\n",
    "plt.legend()\n",
    "plt.show()\n",
    "\n",
    "# Visualize the results of the linear regression model\n",
    "plt.figure(figsize=(10,6))\n",
    "plt.scatter(X_test['distance'], y_test, label='Actual')\n",
    "plt.scatter(X_test['distance'], y_pred_lr, label='Predicted')\n",
    "plt.xlabel('Distance')\n",
    "plt.ylabel('Price')\n",
    "plt.title('Linear Regression Model')\n",
    "plt.legend()\n",
    "plt.show()\n",
    "\n",
    "# Visualize the results of the polynomial regression model\n",
    "plt.figure(figsize=(10,6))\n",
    "plt.scatter(X_test['distance'], y_test, label='Actual')\n",
    "plt.scatter(X_test['distance'], y_poly_pred, label='Predicted')\n",
    "plt.xlabel('Distance')\n",
    "plt.ylabel('Price')\n",
    "plt.title('Polynomial Regression Model')\n",
    "plt.legend()\n",
    "plt.show()\n"
   ]
  },
  {
   "cell_type": "code",
   "execution_count": null,
   "id": "7aa89d29",
   "metadata": {
    "vscode": {
     "languageId": "r"
    }
   },
   "outputs": [],
   "source": [
    "import pandas as pd\n",
    "import numpy as np\n",
    "import matplotlib.pyplot as plt\n",
    "import seaborn as sns\n",
    "from sklearn.model_selection import train_test_split\n",
    "from sklearn.linear_model import LinearRegression\n",
    "\n",
    "# Read the dataset into a Pandas dataframe\n",
    "df = pd.read_csv(\"cab_rides.csv\")\n",
    "\n",
    "# Display the first 5 rows of the dataset\n",
    "print(df.head())\n",
    "\n",
    "# Data cleaning\n",
    "# Remove the rows with missing values\n",
    "df = df.dropna()\n",
    "\n",
    "# Convert the timestamp columns to datetime format\n",
    "df['time_stamp'] = pd.to_datetime(df['time_stamp'], unit='ms')\n",
    "df['date_time'] = df['time_stamp'].dt.strftime('%Y-%m-%d %H:%M:%S')\n",
    "df['hour'] = df['time_stamp'].dt.hour\n",
    "df['day'] = df['time_stamp'].dt.day\n",
    "df['month'] = df['time_stamp'].dt.month\n",
    "df['day_of_week'] = df['time_stamp'].dt.dayofweek\n",
    "\n",
    "# Exploratory Data Analysis (EDA)\n",
    "# Distribution of fare prices\n",
    "sns.distplot(df['price'], kde=False, bins=30)\n",
    "plt.title('Distribution of Fare Prices')\n",
    "plt.xlabel('Price')\n",
    "plt.show()\n",
    "\n",
    "# Correlation between price and distance\n",
    "sns.scatterplot(x='distance', y='price', data=df)\n",
    "plt.title('Correlation between Price and Distance')\n",
    "plt.xlabel('Distance (miles)')\n",
    "plt.ylabel('Price')\n",
    "plt.show()\n",
    "\n",
    "# Correlation between price and day of the week\n",
    "sns.boxplot(x='day_of_week', y='price', data=df)\n",
    "plt.title('Correlation between Price and Day of the Week')\n",
    "plt.xlabel('Day of Week')\n",
    "plt.ylabel('Price')\n",
    "plt.show()\n",
    "\n",
    "# Correlation between price and hour of the day\n",
    "sns.boxplot(x='hour', y='price', data=df)\n",
    "plt.title('Correlation between Price and Hour of the Day')\n",
    "plt.xlabel('Hour')\n",
    "plt.ylabel('Price')\n",
    "plt.show()\n",
    "\n",
    "# Machine Learning Model\n",
    "# Create a new dataframe with the relevant features\n",
    "X = df[['distance', 'hour', 'day_of_week']]\n",
    "y = df['price']\n",
    "\n",
    "# Split the data into training and testing sets\n",
    "X_train, X_test, y_train, y_test = train_test_split(X, y, test_size=0.3, random_state=42)\n",
    "\n",
    "# Train the linear regression model\n",
    "lr_model = LinearRegression()\n",
    "lr_model.fit(X_train, y_train)\n",
    "\n",
    "# Predict the fare prices for the test set\n",
    "y_pred = lr_model.predict(X_test)\n",
    "\n",
    "# Calculate the R-squared value\n",
    "r2 = lr_model.score(X_test, y_test)\n",
    "print('R-squared value:', r2)\n"
   ]
  },
  {
   "cell_type": "code",
   "execution_count": null,
   "id": "a170d950",
   "metadata": {
    "vscode": {
     "languageId": "r"
    }
   },
   "outputs": [],
   "source": [
    "import tkinter as tk\n",
    "import pandas as pd\n",
    "from tkinter import messagebox as tkMessageBox"
   ]
  },
  {
   "cell_type": "code",
   "execution_count": null,
   "id": "12b3cb52",
   "metadata": {
    "vscode": {
     "languageId": "r"
    }
   },
   "outputs": [],
   "source": [
    "root = tk.Tk()"
   ]
  },
  {
   "cell_type": "code",
   "execution_count": null,
   "id": "b2ae488e",
   "metadata": {
    "vscode": {
     "languageId": "r"
    }
   },
   "outputs": [],
   "source": [
    "import tkinter as tk\n",
    "import pandas as pd\n",
    "\n",
    "# Load the dataset\n",
    "df = pd.read_csv('cab_rides.csv')\n",
    "\n",
    "# Get unique sources and destinations from the dataset\n",
    "sources = df['source'].unique()\n",
    "destinations = df['destination'].unique()\n",
    "\n",
    "def get_prices():\n",
    "    # Get the selected source and destination from the dropdown menus\n",
    "    source = source_var.get()\n",
    "    destination = destination_var.get()\n",
    "\n",
    "    # Filter the dataset to include only rides with the given source and destination\n",
    "    filtered_df = df[(df['source'] == source) & (df['destination'] == destination)]\n",
    "\n",
    "    # Check if the filtered dataframe is empty or not\n",
    "    if filtered_df.empty:\n",
    "        # Display an error message\n",
    "        tk.messagebox.showerror(title='Error', message='No route available for the selected source and destination.')\n",
    "        return\n",
    "\n",
    "    # Calculate the average price for each cab type\n",
    "    avg_prices = filtered_df.groupby('cab_type')['price'].mean()\n",
    "\n",
    "    # Determine the best cab type and its average price\n",
    "    best_cab_type = avg_prices.idxmin()\n",
    "    best_price = avg_prices.min()\n",
    "\n",
    "    # Get the name of the best vehicle\n",
    "    best_vehicle = filtered_df[filtered_df['cab_type'] == best_cab_type]['name'].iloc[0]\n",
    "\n",
    "    # Display the results in a message box\n",
    "    result = \"Source: {}\\nDestination: {}\\n\\nLyft price (Lyft): ${:.2f}\\nUber price (Uber): ${:.2f}\\n\\nBest price: ${:.2f} ({}, {})\".format(\n",
    "        source, destination, avg_prices.get('Lyft', 0), avg_prices.get('Uber', 0), best_price, best_vehicle, best_cab_type)\n",
    "    tk.messagebox.showinfo(title='Results', message=result)\n",
    "\n",
    "\n",
    "# Create the main window\n",
    "root = tk.Tk()\n",
    "root.title(\"Ride prices\")\n",
    "\n",
    "# Create the source dropdown menu\n",
    "source_label = tk.Label(root, text=\"Source:\")\n",
    "source_label.grid(row=0, column=0)\n",
    "source_var = tk.StringVar(root)\n",
    "source_dropdown = tk.OptionMenu(root, source_var, *sources)\n",
    "source_dropdown.grid(row=0, column=1)\n",
    "\n",
    "# Create the destination dropdown menu\n",
    "destination_label = tk.Label(root, text=\"Destination:\")\n",
    "destination_label.grid(row=1, column=0)\n",
    "destination_var = tk.StringVar(root)\n",
    "destination_dropdown = tk.OptionMenu(root, destination_var, *destinations)\n",
    "destination_dropdown.grid(row=1, column=1)\n",
    "\n",
    "# Create the submit button\n",
    "submit_button = tk.Button(root, text=\"Submit\", command=get_prices)\n",
    "submit_button.grid(row=2, column=0, columnspan=2)\n",
    "\n",
    "# Start the main event loop\n",
    "root.mainloop()\n"
   ]
  }
 ],
 "metadata": {
  "kernelspec": {
   "display_name": "R",
   "language": "R",
   "name": "ir"
  },
  "language_info": {
   "codemirror_mode": {
    "name": "ipython",
    "version": 3
   },
   "file_extension": ".py",
   "mimetype": "text/x-python",
   "name": "R",
   "nbconvert_exporter": "python",
   "pygments_lexer": "ipython3",
   "version": "3.12.2"
  }
 },
 "nbformat": 4,
 "nbformat_minor": 5
}
